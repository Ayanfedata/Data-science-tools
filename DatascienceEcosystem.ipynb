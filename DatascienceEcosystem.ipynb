{
 "cells": [
  {
   "cell_type": "markdown",
   "id": "6e852024-6c21-4975-80a7-479e9b1cd8c2",
   "metadata": {},
   "source": [
    "# Data Science Tools and Ecosystem"
   ]
  },
  {
   "cell_type": "markdown",
   "id": "d1a0e98e-d54a-4e2e-a84d-d8b50e803f3f",
   "metadata": {},
   "source": [
    " In tis notebook, Data science  Tools and Ecosystem are summarized "
   ]
  },
  {
   "cell_type": "markdown",
   "id": "3a66cbc0-737c-4f36-9ed2-6e39b5fbadb4",
   "metadata": {},
   "source": [
    " *Some of the popular Languages that Data Scientists use are:*"
   ]
  },
  {
   "cell_type": "markdown",
   "id": "dab706fb-a6e8-4e3a-bc32-445e20edfe16",
   "metadata": {},
   "source": [
    "**Objective**"
   ]
  },
  {
   "cell_type": "markdown",
   "id": "551056aa-42b5-4c18-9402-41ffe2c4711e",
   "metadata": {},
   "source": [
    "* Table creation\n",
    "* Style heading\n",
    "* Arithmetic operations\n",
    "* Listings\n",
    "* Bolding"
   ]
  },
  {
   "cell_type": "markdown",
   "id": "d71a6076-8203-4a27-8154-7062b57117fa",
   "metadata": {},
   "source": [
    "1. Python\n",
    "2. R\n",
    "3. SQL (Structural Querry Language)\n",
    "4. Java\n",
    "5. C++"
   ]
  },
  {
   "cell_type": "markdown",
   "id": "a7f2de49-de33-4f79-851a-21f875342df1",
   "metadata": {},
   "source": [
    "#### Some of the commonly used libraries used by Daata Scientists Include:"
   ]
  },
  {
   "cell_type": "markdown",
   "id": "7eee73fb-f394-4271-813f-55a86bc0b4f7",
   "metadata": {},
   "source": [
    "1.  Scientific Computing Libraries  e.g  Numpy and Pandas\n",
    "2.  Visualization Libraries         e.g  Seaborn and Matplotlab\n",
    "3.  High Level Machine Learning and Deep Learning e.g  deep learning neural network and Scikit-learn\n",
    "4.  Deep Learning Libraries         e.g  Tensorflow and Pytorch"
   ]
  },
  {
   "cell_type": "markdown",
   "id": "afd4d63b-ac0f-449a-aa06-025e96016d87",
   "metadata": {},
   "source": [
    " | Data Science tools |\n",
    " ----------------------\n",
    " | Pycharm |\n",
    " |Anaconda |\n",
    " |AWS|"
   ]
  },
  {
   "cell_type": "markdown",
   "id": "59651fc1-d9c5-486e-8735-39aeaf5c9cc7",
   "metadata": {},
   "source": [
    "### Below are a few examples of evaluating arithmetic expressions in python"
   ]
  },
  {
   "cell_type": "markdown",
   "id": "be2be001-0ae7-487a-a8c5-469662207c0a",
   "metadata": {},
   "source": [
    "This is a simple arithmetic expression to multiply then add integers"
   ]
  },
  {
   "cell_type": "code",
   "execution_count": 6,
   "id": "d2b6ba42-339d-4226-b793-ae178365652f",
   "metadata": {},
   "outputs": [
    {
     "data": {
      "text/plain": [
       "17"
      ]
     },
     "execution_count": 6,
     "metadata": {},
     "output_type": "execute_result"
    }
   ],
   "source": [
    "(3*4)+5"
   ]
  },
  {
   "cell_type": "markdown",
   "id": "1fe17a78-bcb9-4ad5-bd1d-f2389b113674",
   "metadata": {},
   "source": [
    "This will convert 200 minutes to hours by dividing by 60"
   ]
  },
  {
   "cell_type": "code",
   "execution_count": 12,
   "id": "c6864e21-94e5-454b-b418-b8a8b9502c26",
   "metadata": {},
   "outputs": [
    {
     "data": {
      "text/plain": [
       "3.3333333333333335"
      ]
     },
     "execution_count": 12,
     "metadata": {},
     "output_type": "execute_result"
    }
   ],
   "source": [
    "(200/60)"
   ]
  },
  {
   "cell_type": "markdown",
   "id": "5ea01f64-9a87-4c95-a937-6ce516fe4028",
   "metadata": {},
   "source": [
    "## Author\n",
    " Lukmon Folorunsho"
   ]
  },
  {
   "cell_type": "code",
   "execution_count": null,
   "id": "a0202068-49f4-4c84-9ae9-5b1cf2091662",
   "metadata": {},
   "outputs": [],
   "source": []
  }
 ],
 "metadata": {
  "kernelspec": {
   "display_name": "Python 3 (ipykernel)",
   "language": "python",
   "name": "python3"
  },
  "language_info": {
   "codemirror_mode": {
    "name": "ipython",
    "version": 3
   },
   "file_extension": ".py",
   "mimetype": "text/x-python",
   "name": "python",
   "nbconvert_exporter": "python",
   "pygments_lexer": "ipython3",
   "version": "3.12.7"
  }
 },
 "nbformat": 4,
 "nbformat_minor": 5
}
